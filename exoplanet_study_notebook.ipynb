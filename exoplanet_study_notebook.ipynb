{
 "cells": [
  {
   "cell_type": "markdown",
   "id": "46021d55",
   "metadata": {},
   "source": [
    "# $\\mathbf{IDENTIFYING}$ $\\mathbf{STELLAR}$ $\\mathbf{CANDIDATES}$ $\\mathbf{WITH}$ $\\mathbf{EARTHLIKE}$ $\\mathbf{SATELLITES}$\n",
    "##  Do stars that have 'Earthlike' planets have certain characteristics?  Could we determine if a star has Earthlike planets based on these characteristics?\n",
    "### Prepared for The Planetary Societies Summer Forum\n",
    "$\\rightarrow$Report and Presentation by Ryan Miller, Data Scientist | 7/6/2022"
   ]
  },
  {
   "cell_type": "markdown",
   "id": "c293f353",
   "metadata": {},
   "source": [
    "# $\\bigstar$ Executive Summary"
   ]
  },
  {
   "cell_type": "markdown",
   "id": "19732b11",
   "metadata": {},
   "source": [
    "### Question: We're entering a new era of exoplanet discovery with the James Webb Space Telescope (JWST) coming online.  Exoplanets are planets outside of our solar system.  Expanding on Kepler and a number of other telescopes/missions geared towards exoplanet discovery, the JSWT will allow humanity to glimpse further into the unverse than ever before; but, it can also get amazing detail of things much closer.  In fact, under certain conditions, it can 'see' into an extrasolar planet's atmosphere, possibly detecting telltale signs of life.  As such, with so many stars in our galaxy along (~100 Billion) and assets limited to one telescope, can we identify candidates that have 'Earthlike' planets to focus our attention on?\n",
    "##### Note: For this study, I defined 'Earthlike' as planets that have a gravity level that could support earth-like life, as this will present the most familiar signs of organic activity for identification .  Details of how this was determined can be found in this notebook. \n",
    "### Actions: Using exoplanet telescope data consolidated by CalTech, I attempted to filter and identify key characteristics of stars with earthlike planets - with the goal of identifying planets which would most likely harbor familiar life.  As such, I did a detailed analysis of the best data I could put together on every planet so far discovered to see if there were any clear drivers of having earthlike planets.  Modeling was attempted to see if an ML Classification Model could be used to classify new and existing stellar candidates.\n",
    "### Conclusions:  Even with extensive analysis nothing\n",
    "- give reasons why\n",
    "- Similarly, All models performed worse than Baseline in Accuracy, although [the one] pefomed better in a more important metric for this type of study, Sensitivity.\n",
    "\n",
    "### Recommendations: Drop them in here at the end!"
   ]
  },
  {
   "cell_type": "markdown",
   "id": "ab300e1e",
   "metadata": {},
   "source": [
    "# $\\bigstar$ Libraries Required for Analysis"
   ]
  },
  {
   "cell_type": "markdown",
   "id": "8e57ac71",
   "metadata": {},
   "source": [
    "Common DS Libraries"
   ]
  },
  {
   "cell_type": "code",
   "execution_count": 1,
   "id": "90d40b4f",
   "metadata": {},
   "outputs": [],
   "source": [
    "# For data analysis:\n",
    "import numpy as np\n",
    "import pandas as pd\n",
    "\n",
    "# Graphs/Visualizations:\n",
    "import seaborn as sns\n",
    "import matplotlib.pyplot as plt\n",
    "%matplotlib inline\n",
    "\n",
    "# For Statistics and Hypothesis Testing:\n",
    "import scipy.stats as stats\n",
    "\n",
    "# For Modeling:\n",
    "from itertools import combinations\n",
    "from sklearn.metrics import confusion_matrix\n",
    "from sklearn.tree import DecisionTreeClassifier, plot_tree\n",
    "from sklearn.ensemble import RandomForestClassifier\n",
    "from sklearn.neighbors import KNeighborsClassifier\n",
    "from sklearn.linear_model import LogisticRegression\n",
    "from sklearn.cluster import KMeans"
   ]
  },
  {
   "cell_type": "markdown",
   "id": "f5a88239",
   "metadata": {},
   "source": [
    "Internally Created Helper Functions"
   ]
  },
  {
   "cell_type": "code",
   "execution_count": 2,
   "id": "403b7f25",
   "metadata": {},
   "outputs": [],
   "source": [
    "# For acquiring the dataset from the Cal Tech Database:\n",
    "from acquire import acquire_exoplanet_data as aed\n",
    "\n",
    "# For preparing and cleaning as well as splitting and encoding the dataset\n",
    "# and seperating into new df, X_train_exp, X_train, y_train, X_validate, y_validate, X_test, y_test:\n",
    "import wrangle\n",
    "\n",
    "# For running bivariate and multivariate graphical comparisons\n",
    "import explore\n",
    "\n",
    "# For comparing Classification Algorithm Outcomes\n",
    "from matrix_result import matrix_result_2d"
   ]
  },
  {
   "cell_type": "markdown",
   "id": "62d2c84a",
   "metadata": {},
   "source": [
    "Others"
   ]
  },
  {
   "cell_type": "code",
   "execution_count": 3,
   "id": "a17bf9bc",
   "metadata": {},
   "outputs": [],
   "source": [
    "#Ignore Warnings:\n",
    "import warnings\n",
    "warnings.filterwarnings('ignore')\n",
    "\n",
    "# reloads import files each time a cell is ran (makes your life easier)\n",
    "%load_ext autoreload\n",
    "%autoreload 2\n",
    "\n",
    "# Shows all columns of a dataframe\n",
    "pd.set_option('display.max_columns', None)"
   ]
  },
  {
   "cell_type": "markdown",
   "id": "c3d685ab",
   "metadata": {},
   "source": [
    "# $\\bigstar$ Data Acquisition and Summary Analysis"
   ]
  },
  {
   "cell_type": "markdown",
   "id": "05771d2a",
   "metadata": {},
   "source": [
    "## After initially exploring a kaggle dataset, already somewhat prepped, I discovered that  dataset was actaully pulled from a larger one from CalTech.  I explored CalTech's data and determined it would be better to pull directly from there, although it mean an initial manual filtering of 373 columns.\n",
    "### Columns chosen were primarily characteristics of the planet and the star\n",
    "### It was not a straight download, nor was there an API call, but rather you created a SQL-like query when calling the url to produce a csv, found here.\n",
    "### https://exoplanetarchive.ipac.caltech.edu/docs/TAP/usingTAP.html\n",
    "\n",
    "Downloaded 6/29/2022\n",
    "\n",
    "- *See 'exoplanet_acquire_workbook.ipynb' for more details on process*"
   ]
  },
  {
   "cell_type": "markdown",
   "id": "97ff8233",
   "metadata": {},
   "source": [
    "## Raw Data Features Acquired:\n",
    "- 'hostname': host star's name\n",
    "- 'pl_letter': planets letter, determined by order around planet in which it was discovered\n",
    "- 'sy_snum': number of stars in planetary system (single, binary, ternary, four-star)\n",
    "- 'sy_pnum': number of planets in system (equals number of letters)\n",
    "- 'cb_flag': systems flagged as binary sar systems\n",
    "- 'disoverymethod': method of exoplanet discovery \n",
    "- 'disc_year': year planet discovered\n",
    "- 'glat': galactic latitude, from earth as origin\n",
    "- 'glon': galatic longitude, from earth as origin\n",
    "- 'pl_orbper': period of planet orbit around star\n",
    "- 'sy_gaiamag': magnitude of star (from Gaia probe instrument)\n",
    "- 'pl_controv_flag': flag for planets with controversial data\n",
    "- 'pl_dens': density of planet\n",
    "- 'pl_rade': planet's radius\n",
    "- 'pl_ratdor': planet's ratio of it's star's radius to it's orbit\n",
    "- 'pl_masse': planet's mass\n",
    "- 'st_teff': star's temperature, in Kelvin     \n",
    "- 'st_met': star's mettalicity\n",
    "- 'st_lum': star's luminosity\n",
    "- 'st_logg': log of star's gravity\n",
    "- 'st_age': star's age, in Billions of years\n",
    "- 'st_mass': star's mass, in relation to the Sun\n",
    "- 'st_dens': star's density, in g/cm^3\n",
    "- 'st_rad': star's radius, in relation to the Sun\n",
    "- 'sy_dist': star's distance from earth\n",
    "- 'rowupdate': when the observation was added"
   ]
  },
  {
   "cell_type": "markdown",
   "id": "564723b8",
   "metadata": {},
   "source": [
    "## Loading the raw dataset in:"
   ]
  },
  {
   "cell_type": "code",
   "execution_count": 4,
   "id": "4759fb22",
   "metadata": {},
   "outputs": [
    {
     "name": "stdout",
     "output_type": "stream",
     "text": [
      "<class 'pandas.core.frame.DataFrame'>\n",
      "Int64Index: 32552 entries, 0 to 32551\n",
      "Data columns (total 26 columns):\n",
      " #   Column           Non-Null Count  Dtype  \n",
      "---  ------           --------------  -----  \n",
      " 0   hostname         32552 non-null  object \n",
      " 1   pl_letter        32552 non-null  object \n",
      " 2   sy_snum          32552 non-null  int64  \n",
      " 3   sy_pnum          32552 non-null  int64  \n",
      " 4   cb_flag          32552 non-null  int64  \n",
      " 5   discoverymethod  32552 non-null  object \n",
      " 6   disc_year        32552 non-null  int64  \n",
      " 7   glat             32552 non-null  float64\n",
      " 8   glon             32552 non-null  float64\n",
      " 9   pl_orbper        29747 non-null  float64\n",
      " 10  sy_gaiamag       31884 non-null  float64\n",
      " 11  pl_controv_flag  32552 non-null  int64  \n",
      " 12  pl_dens          1626 non-null   float64\n",
      " 13  pl_rade          22711 non-null  float64\n",
      " 14  pl_ratdor        15519 non-null  float64\n",
      " 15  pl_masse         2781 non-null   float64\n",
      " 16  st_teff          30688 non-null  float64\n",
      " 17  st_met           21187 non-null  float64\n",
      " 18  st_lum           8426 non-null   float64\n",
      " 19  st_logg          27158 non-null  float64\n",
      " 20  st_age           6675 non-null   float64\n",
      " 21  st_mass          28173 non-null  float64\n",
      " 22  st_dens          19324 non-null  float64\n",
      " 23  st_rad           30838 non-null  float64\n",
      " 24  sy_dist          31764 non-null  float64\n",
      " 25  rowupdate        32551 non-null  object \n",
      "dtypes: float64(17), int64(5), object(4)\n",
      "memory usage: 6.7+ MB\n"
     ]
    },
    {
     "data": {
      "text/html": [
       "<div>\n",
       "<style scoped>\n",
       "    .dataframe tbody tr th:only-of-type {\n",
       "        vertical-align: middle;\n",
       "    }\n",
       "\n",
       "    .dataframe tbody tr th {\n",
       "        vertical-align: top;\n",
       "    }\n",
       "\n",
       "    .dataframe thead th {\n",
       "        text-align: right;\n",
       "    }\n",
       "</style>\n",
       "<table border=\"1\" class=\"dataframe\">\n",
       "  <thead>\n",
       "    <tr style=\"text-align: right;\">\n",
       "      <th></th>\n",
       "      <th>hostname</th>\n",
       "      <th>pl_letter</th>\n",
       "      <th>sy_snum</th>\n",
       "      <th>sy_pnum</th>\n",
       "      <th>cb_flag</th>\n",
       "      <th>discoverymethod</th>\n",
       "      <th>disc_year</th>\n",
       "      <th>glat</th>\n",
       "      <th>glon</th>\n",
       "      <th>pl_orbper</th>\n",
       "      <th>sy_gaiamag</th>\n",
       "      <th>pl_controv_flag</th>\n",
       "      <th>pl_dens</th>\n",
       "      <th>pl_rade</th>\n",
       "      <th>pl_ratdor</th>\n",
       "      <th>pl_masse</th>\n",
       "      <th>st_teff</th>\n",
       "      <th>st_met</th>\n",
       "      <th>st_lum</th>\n",
       "      <th>st_logg</th>\n",
       "      <th>st_age</th>\n",
       "      <th>st_mass</th>\n",
       "      <th>st_dens</th>\n",
       "      <th>st_rad</th>\n",
       "      <th>sy_dist</th>\n",
       "      <th>rowupdate</th>\n",
       "    </tr>\n",
       "  </thead>\n",
       "  <tbody>\n",
       "    <tr>\n",
       "      <th>0</th>\n",
       "      <td>Kepler-11</td>\n",
       "      <td>c</td>\n",
       "      <td>1</td>\n",
       "      <td>6</td>\n",
       "      <td>0</td>\n",
       "      <td>Transit</td>\n",
       "      <td>2010</td>\n",
       "      <td>8.13328</td>\n",
       "      <td>76.1613</td>\n",
       "      <td>13.02502</td>\n",
       "      <td>13.7062</td>\n",
       "      <td>0</td>\n",
       "      <td>NaN</td>\n",
       "      <td>3.15</td>\n",
       "      <td>NaN</td>\n",
       "      <td>13.5</td>\n",
       "      <td>5680.0</td>\n",
       "      <td>0.0</td>\n",
       "      <td>NaN</td>\n",
       "      <td>4.3</td>\n",
       "      <td>8.0</td>\n",
       "      <td>0.95</td>\n",
       "      <td>NaN</td>\n",
       "      <td>1.1</td>\n",
       "      <td>646.346</td>\n",
       "      <td>2014-05-16</td>\n",
       "    </tr>\n",
       "    <tr>\n",
       "      <th>1</th>\n",
       "      <td>Kepler-11</td>\n",
       "      <td>f</td>\n",
       "      <td>1</td>\n",
       "      <td>6</td>\n",
       "      <td>0</td>\n",
       "      <td>Transit</td>\n",
       "      <td>2010</td>\n",
       "      <td>8.13328</td>\n",
       "      <td>76.1613</td>\n",
       "      <td>46.68876</td>\n",
       "      <td>13.7062</td>\n",
       "      <td>0</td>\n",
       "      <td>NaN</td>\n",
       "      <td>2.61</td>\n",
       "      <td>NaN</td>\n",
       "      <td>2.3</td>\n",
       "      <td>5680.0</td>\n",
       "      <td>0.0</td>\n",
       "      <td>NaN</td>\n",
       "      <td>4.3</td>\n",
       "      <td>8.0</td>\n",
       "      <td>0.95</td>\n",
       "      <td>NaN</td>\n",
       "      <td>1.1</td>\n",
       "      <td>646.346</td>\n",
       "      <td>2014-05-16</td>\n",
       "    </tr>\n",
       "  </tbody>\n",
       "</table>\n",
       "</div>"
      ],
      "text/plain": [
       "    hostname pl_letter  sy_snum  sy_pnum  cb_flag discoverymethod  disc_year  \\\n",
       "0  Kepler-11         c        1        6        0         Transit       2010   \n",
       "1  Kepler-11         f        1        6        0         Transit       2010   \n",
       "\n",
       "      glat     glon  pl_orbper  sy_gaiamag  pl_controv_flag  pl_dens  pl_rade  \\\n",
       "0  8.13328  76.1613   13.02502     13.7062                0      NaN     3.15   \n",
       "1  8.13328  76.1613   46.68876     13.7062                0      NaN     2.61   \n",
       "\n",
       "   pl_ratdor  pl_masse  st_teff  st_met  st_lum  st_logg  st_age  st_mass  \\\n",
       "0        NaN      13.5   5680.0     0.0     NaN      4.3     8.0     0.95   \n",
       "1        NaN       2.3   5680.0     0.0     NaN      4.3     8.0     0.95   \n",
       "\n",
       "   st_dens  st_rad  sy_dist   rowupdate  \n",
       "0      NaN     1.1  646.346  2014-05-16  \n",
       "1      NaN     1.1  646.346  2014-05-16  "
      ]
     },
     "execution_count": 4,
     "metadata": {},
     "output_type": "execute_result"
    }
   ],
   "source": [
    "# Load raw dataset and get info and head\n",
    "df = aed()\n",
    "df.info()\n",
    "df.head(2)"
   ]
  },
  {
   "cell_type": "markdown",
   "id": "ac5ed0f3",
   "metadata": {},
   "source": [
    "### There are a lot more rows here than the previous dataset.  I know that ~5k exoplanets have been discovered so this dataset represents 6x this number of observations.  Many might be duplicates.\n",
    "\n",
    "For example:"
   ]
  },
  {
   "cell_type": "code",
   "execution_count": 5,
   "id": "07df3a2f",
   "metadata": {},
   "outputs": [
    {
     "data": {
      "text/html": [
       "<div>\n",
       "<style scoped>\n",
       "    .dataframe tbody tr th:only-of-type {\n",
       "        vertical-align: middle;\n",
       "    }\n",
       "\n",
       "    .dataframe tbody tr th {\n",
       "        vertical-align: top;\n",
       "    }\n",
       "\n",
       "    .dataframe thead th {\n",
       "        text-align: right;\n",
       "    }\n",
       "</style>\n",
       "<table border=\"1\" class=\"dataframe\">\n",
       "  <thead>\n",
       "    <tr style=\"text-align: right;\">\n",
       "      <th></th>\n",
       "      <th>sy_snum</th>\n",
       "      <th>sy_pnum</th>\n",
       "      <th>cb_flag</th>\n",
       "      <th>disc_year</th>\n",
       "      <th>glat</th>\n",
       "      <th>glon</th>\n",
       "      <th>pl_orbper</th>\n",
       "      <th>sy_gaiamag</th>\n",
       "      <th>pl_controv_flag</th>\n",
       "      <th>pl_dens</th>\n",
       "      <th>pl_rade</th>\n",
       "      <th>pl_ratdor</th>\n",
       "      <th>pl_masse</th>\n",
       "      <th>st_teff</th>\n",
       "      <th>st_met</th>\n",
       "      <th>st_lum</th>\n",
       "      <th>st_logg</th>\n",
       "      <th>st_age</th>\n",
       "      <th>st_mass</th>\n",
       "      <th>st_dens</th>\n",
       "      <th>st_rad</th>\n",
       "      <th>sy_dist</th>\n",
       "    </tr>\n",
       "    <tr>\n",
       "      <th>pl_letter</th>\n",
       "      <th></th>\n",
       "      <th></th>\n",
       "      <th></th>\n",
       "      <th></th>\n",
       "      <th></th>\n",
       "      <th></th>\n",
       "      <th></th>\n",
       "      <th></th>\n",
       "      <th></th>\n",
       "      <th></th>\n",
       "      <th></th>\n",
       "      <th></th>\n",
       "      <th></th>\n",
       "      <th></th>\n",
       "      <th></th>\n",
       "      <th></th>\n",
       "      <th></th>\n",
       "      <th></th>\n",
       "      <th></th>\n",
       "      <th></th>\n",
       "      <th></th>\n",
       "      <th></th>\n",
       "    </tr>\n",
       "  </thead>\n",
       "  <tbody>\n",
       "    <tr>\n",
       "      <th>b</th>\n",
       "      <td>1.0</td>\n",
       "      <td>6.0</td>\n",
       "      <td>0.0</td>\n",
       "      <td>2010.0</td>\n",
       "      <td>8.13328</td>\n",
       "      <td>76.1613</td>\n",
       "      <td>10.304021</td>\n",
       "      <td>13.7062</td>\n",
       "      <td>0.0</td>\n",
       "      <td>1.720</td>\n",
       "      <td>1.836800</td>\n",
       "      <td>19.009833</td>\n",
       "      <td>3.1700</td>\n",
       "      <td>5726.461538</td>\n",
       "      <td>0.032000</td>\n",
       "      <td>0.12</td>\n",
       "      <td>4.355833</td>\n",
       "      <td>7.655</td>\n",
       "      <td>0.975385</td>\n",
       "      <td>1.122411</td>\n",
       "      <td>1.082857</td>\n",
       "      <td>646.346</td>\n",
       "    </tr>\n",
       "    <tr>\n",
       "      <th>c</th>\n",
       "      <td>1.0</td>\n",
       "      <td>6.0</td>\n",
       "      <td>0.0</td>\n",
       "      <td>2010.0</td>\n",
       "      <td>8.13328</td>\n",
       "      <td>76.1613</td>\n",
       "      <td>13.024819</td>\n",
       "      <td>13.7062</td>\n",
       "      <td>0.0</td>\n",
       "      <td>0.660</td>\n",
       "      <td>2.937400</td>\n",
       "      <td>22.338833</td>\n",
       "      <td>6.0975</td>\n",
       "      <td>5726.461538</td>\n",
       "      <td>0.032000</td>\n",
       "      <td>0.12</td>\n",
       "      <td>4.355833</td>\n",
       "      <td>7.655</td>\n",
       "      <td>0.975385</td>\n",
       "      <td>1.135256</td>\n",
       "      <td>1.082857</td>\n",
       "      <td>646.346</td>\n",
       "    </tr>\n",
       "    <tr>\n",
       "      <th>d</th>\n",
       "      <td>1.0</td>\n",
       "      <td>6.0</td>\n",
       "      <td>0.0</td>\n",
       "      <td>2010.0</td>\n",
       "      <td>8.13328</td>\n",
       "      <td>76.1613</td>\n",
       "      <td>22.686738</td>\n",
       "      <td>13.7062</td>\n",
       "      <td>0.0</td>\n",
       "      <td>1.140</td>\n",
       "      <td>3.248000</td>\n",
       "      <td>32.427000</td>\n",
       "      <td>6.8280</td>\n",
       "      <td>5726.461538</td>\n",
       "      <td>0.032000</td>\n",
       "      <td>0.12</td>\n",
       "      <td>4.355833</td>\n",
       "      <td>7.655</td>\n",
       "      <td>0.970000</td>\n",
       "      <td>1.141522</td>\n",
       "      <td>1.082857</td>\n",
       "      <td>646.346</td>\n",
       "    </tr>\n",
       "    <tr>\n",
       "      <th>e</th>\n",
       "      <td>1.0</td>\n",
       "      <td>6.0</td>\n",
       "      <td>0.0</td>\n",
       "      <td>2010.0</td>\n",
       "      <td>8.13328</td>\n",
       "      <td>76.1613</td>\n",
       "      <td>31.996432</td>\n",
       "      <td>13.7062</td>\n",
       "      <td>0.0</td>\n",
       "      <td>0.590</td>\n",
       "      <td>4.084273</td>\n",
       "      <td>51.271167</td>\n",
       "      <td>7.4940</td>\n",
       "      <td>5718.666667</td>\n",
       "      <td>0.027778</td>\n",
       "      <td>0.12</td>\n",
       "      <td>4.356364</td>\n",
       "      <td>7.655</td>\n",
       "      <td>0.963846</td>\n",
       "      <td>2.277438</td>\n",
       "      <td>1.079231</td>\n",
       "      <td>646.346</td>\n",
       "    </tr>\n",
       "    <tr>\n",
       "      <th>f</th>\n",
       "      <td>1.0</td>\n",
       "      <td>6.0</td>\n",
       "      <td>0.0</td>\n",
       "      <td>2010.0</td>\n",
       "      <td>8.13328</td>\n",
       "      <td>76.1613</td>\n",
       "      <td>46.686430</td>\n",
       "      <td>13.7062</td>\n",
       "      <td>0.0</td>\n",
       "      <td>0.595</td>\n",
       "      <td>2.606636</td>\n",
       "      <td>47.471667</td>\n",
       "      <td>2.0960</td>\n",
       "      <td>5726.461538</td>\n",
       "      <td>0.032000</td>\n",
       "      <td>0.12</td>\n",
       "      <td>4.355833</td>\n",
       "      <td>7.655</td>\n",
       "      <td>0.970000</td>\n",
       "      <td>0.956000</td>\n",
       "      <td>1.082857</td>\n",
       "      <td>646.346</td>\n",
       "    </tr>\n",
       "    <tr>\n",
       "      <th>g</th>\n",
       "      <td>1.0</td>\n",
       "      <td>6.0</td>\n",
       "      <td>0.0</td>\n",
       "      <td>2010.0</td>\n",
       "      <td>8.13328</td>\n",
       "      <td>76.1613</td>\n",
       "      <td>118.378708</td>\n",
       "      <td>13.7062</td>\n",
       "      <td>0.0</td>\n",
       "      <td>4.000</td>\n",
       "      <td>3.467444</td>\n",
       "      <td>97.125000</td>\n",
       "      <td>116.7100</td>\n",
       "      <td>5726.461538</td>\n",
       "      <td>0.032000</td>\n",
       "      <td>0.12</td>\n",
       "      <td>4.355833</td>\n",
       "      <td>7.655</td>\n",
       "      <td>0.980000</td>\n",
       "      <td>1.130167</td>\n",
       "      <td>1.085385</td>\n",
       "      <td>646.346</td>\n",
       "    </tr>\n",
       "  </tbody>\n",
       "</table>\n",
       "</div>"
      ],
      "text/plain": [
       "           sy_snum  sy_pnum  cb_flag  disc_year     glat     glon   pl_orbper  \\\n",
       "pl_letter                                                                       \n",
       "b              1.0      6.0      0.0     2010.0  8.13328  76.1613   10.304021   \n",
       "c              1.0      6.0      0.0     2010.0  8.13328  76.1613   13.024819   \n",
       "d              1.0      6.0      0.0     2010.0  8.13328  76.1613   22.686738   \n",
       "e              1.0      6.0      0.0     2010.0  8.13328  76.1613   31.996432   \n",
       "f              1.0      6.0      0.0     2010.0  8.13328  76.1613   46.686430   \n",
       "g              1.0      6.0      0.0     2010.0  8.13328  76.1613  118.378708   \n",
       "\n",
       "           sy_gaiamag  pl_controv_flag  pl_dens   pl_rade  pl_ratdor  \\\n",
       "pl_letter                                                              \n",
       "b             13.7062              0.0    1.720  1.836800  19.009833   \n",
       "c             13.7062              0.0    0.660  2.937400  22.338833   \n",
       "d             13.7062              0.0    1.140  3.248000  32.427000   \n",
       "e             13.7062              0.0    0.590  4.084273  51.271167   \n",
       "f             13.7062              0.0    0.595  2.606636  47.471667   \n",
       "g             13.7062              0.0    4.000  3.467444  97.125000   \n",
       "\n",
       "           pl_masse      st_teff    st_met  st_lum   st_logg  st_age  \\\n",
       "pl_letter                                                              \n",
       "b            3.1700  5726.461538  0.032000    0.12  4.355833   7.655   \n",
       "c            6.0975  5726.461538  0.032000    0.12  4.355833   7.655   \n",
       "d            6.8280  5726.461538  0.032000    0.12  4.355833   7.655   \n",
       "e            7.4940  5718.666667  0.027778    0.12  4.356364   7.655   \n",
       "f            2.0960  5726.461538  0.032000    0.12  4.355833   7.655   \n",
       "g          116.7100  5726.461538  0.032000    0.12  4.355833   7.655   \n",
       "\n",
       "            st_mass   st_dens    st_rad  sy_dist  \n",
       "pl_letter                                         \n",
       "b          0.975385  1.122411  1.082857  646.346  \n",
       "c          0.975385  1.135256  1.082857  646.346  \n",
       "d          0.970000  1.141522  1.082857  646.346  \n",
       "e          0.963846  2.277438  1.079231  646.346  \n",
       "f          0.970000  0.956000  1.082857  646.346  \n",
       "g          0.980000  1.130167  1.085385  646.346  "
      ]
     },
     "execution_count": 5,
     "metadata": {},
     "output_type": "execute_result"
    }
   ],
   "source": [
    "# Showing how many observations for a single star with 6 identified planets (it's 36 - 6x6)\n",
    "df[df.hostname == 'Kepler-11']\n",
    "df[df.hostname == 'Kepler-11'].groupby(df.pl_letter).mean()"
   ]
  },
  {
   "cell_type": "markdown",
   "id": "d284154c",
   "metadata": {},
   "source": [
    "### Manipulating and grouping the dataset, I discovered there were 5044 unique planets in the data.  Most had multiple entries, which represented different observations (sometimes even by different telescopes).  \n",
    "### Therefore, one goal was to combine this data in a way that kept the greatest number planets available for initial analysis and future modeling.  This was done after an initial clean of the data.\n",
    "### For this initial cleaning, a univariate distribution analysis was performed to get a general idea of data and to start filtering out what features are important vs. which are not and should be dropped.  It included both numerical and categorical analysis. From that:\n",
    "1. Removed all observations not from 'transit' and 'radial velocity' discovery methods (other methods have lots of nulls for other features).\n",
    "2. Removed all records with 'pl_ctronvo_flag' == 1.  We don't need any debatable data.\n",
    "3. After removing the nulls from a given planet's multiple records, I removed the star name ('hostname') and planet letter ('pl_letter') since they are captured in a new column called 'planet'.\n",
    "4. Encoded 'sy_snum' - the number of stars in a system -  as 'multistar' or not.  Remove 'sy_snum' and 'cb_flag', as the flag was only for binary systems, but not those with three or four stars.\n",
    "5. Removed features 'glat' and 'glon'.  Turns out not useful.\n",
    "6. Removed 'sy_gaiamag' - magnitude is a certain type of light at a certain distance.  'luminosity' captures what we are really trying to get - how much EM radiation it is putting out (freq of EM rad might have an effect, but we will leave that for future analysis).\n",
    "7. Removed 'st_logg' as a star's surface gravity is captured in other features such as mass and radius.\n",
    "8. Removed 'rowupdate' and 'disc_year'.  They are not relevant for this analysis although rowupdate could be usd to improve the filtering method.\n",
    "9. Mapped the letter of the planet to the order in which it was disovered, to see if that gave insight into a planet's characteristics.\n",
    "10. Dropped all planetary data, including 'pl_ratdor', 'pl_dens', and 'pl_masse' as I determined 'pl_radius' was the best factor alone to determine 'Earthlike' or 'Not-Earthlike'.  This is the target feature.\n",
    "    - More details on this process below...\n",
    "11. Renamed features to be easier to understand and/or type."
   ]
  },
  {
   "cell_type": "markdown",
   "id": "90068610",
   "metadata": {},
   "source": [
    "### *Deeper Dive: What is an 'Earthlike' planet?*"
   ]
  },
  {
   "cell_type": "markdown",
   "id": "68b34ade",
   "metadata": {},
   "source": [
    "I defined an Earthlike planet as that which could sustain earthlike life.  For this analysis, I focused purely on the gravitational requirements for life similar to our planet's.  Thus, this analysis does not take into account if the planet is in a habitale zone.  \n",
    "##### After some research, I decided to use planet radius, since density at each bin of planet radius typically indicates the planet's density, and therefore you can claim earthlike from this measurement alone.\n",
    "We have decent info on planets but one we have the least amount of nulls for is radius - it seems to be the best determined feature by these telescope methods.  Planets with radius in a range near Earth's will almost always be rocky.  While the density can vary between rocky planets, any similar to ours from a life supporting perspective will be similar.  This, we can use a range of radii to represent gravities that could sustain something relatively close to earthlike.\n",
    "##### Earthlike gravity ranges from .5 to 1.5 of the mass of earth.  Holding density constant, that means an Earthlike planet's radius lies between .8 and 1.15 earth radii.\n",
    "- .8**3 = ~0.5\n",
    "- 1.15**3 = ~1.5\n",
    "- Code: df['pl_rade'] = np.where(df['pl_rade'] > .8, np.where(df['pl_rade']< 1.15,'Earthlike','Not-Earthlike'),'Not-Earthlike')\n",
    "\n",
    "*Can now drop remaining planetary characteristics.*"
   ]
  },
  {
   "cell_type": "markdown",
   "id": "2a6b1fb5",
   "metadata": {},
   "source": [
    "### After this initial cleaning, I grouped observations by planet and found the mean for each group's observation set.  This was to eliminate as many nulls as possible while consolidating these observation sets.\n",
    "### Finally, I removed any remaining observations that had nulls in them to get a silky smooth dataset."
   ]
  },
  {
   "cell_type": "markdown",
   "id": "b9c8b019",
   "metadata": {},
   "source": [
    "## Initial cleaning:\n",
    "- *See 'exoplanet_wrangle_workbook.ipynb' for more details on process*"
   ]
  },
  {
   "cell_type": "code",
   "execution_count": 6,
   "id": "c243b522",
   "metadata": {},
   "outputs": [
    {
     "name": "stdout",
     "output_type": "stream",
     "text": [
      "<class 'pandas.core.frame.DataFrame'>\n",
      "Index: 2820 entries, 14 Her-b to ups And-d\n",
      "Data columns (total 14 columns):\n",
      " #   Column                    Non-Null Count  Dtype  \n",
      "---  ------                    --------------  -----  \n",
      " 0   num_planets_in_sys        2820 non-null   int64  \n",
      " 1   orbital_period            2820 non-null   float64\n",
      " 2   y                         2820 non-null   object \n",
      " 3   star_temp                 2820 non-null   float64\n",
      " 4   metallicity               2820 non-null   float64\n",
      " 5   luminosity                2820 non-null   float64\n",
      " 6   star_age                  2820 non-null   float64\n",
      " 7   star_mass                 2820 non-null   float64\n",
      " 8   star_density              2820 non-null   float64\n",
      " 9   star_radius               2820 non-null   float64\n",
      " 10  star_distance_from_earth  2820 non-null   float64\n",
      " 11  multistar                 2820 non-null   int64  \n",
      " 12  discovery_order           2820 non-null   int64  \n",
      " 13  y_encoded                 2820 non-null   int64  \n",
      "dtypes: float64(9), int64(4), object(1)\n",
      "memory usage: 330.5+ KB\n"
     ]
    },
    {
     "data": {
      "text/html": [
       "<div>\n",
       "<style scoped>\n",
       "    .dataframe tbody tr th:only-of-type {\n",
       "        vertical-align: middle;\n",
       "    }\n",
       "\n",
       "    .dataframe tbody tr th {\n",
       "        vertical-align: top;\n",
       "    }\n",
       "\n",
       "    .dataframe thead th {\n",
       "        text-align: right;\n",
       "    }\n",
       "</style>\n",
       "<table border=\"1\" class=\"dataframe\">\n",
       "  <thead>\n",
       "    <tr style=\"text-align: right;\">\n",
       "      <th></th>\n",
       "      <th>num_planets_in_sys</th>\n",
       "      <th>orbital_period</th>\n",
       "      <th>y</th>\n",
       "      <th>star_temp</th>\n",
       "      <th>metallicity</th>\n",
       "      <th>luminosity</th>\n",
       "      <th>star_age</th>\n",
       "      <th>star_mass</th>\n",
       "      <th>star_density</th>\n",
       "      <th>star_radius</th>\n",
       "      <th>star_distance_from_earth</th>\n",
       "      <th>multistar</th>\n",
       "      <th>discovery_order</th>\n",
       "      <th>y_encoded</th>\n",
       "    </tr>\n",
       "    <tr>\n",
       "      <th>planet</th>\n",
       "      <th></th>\n",
       "      <th></th>\n",
       "      <th></th>\n",
       "      <th></th>\n",
       "      <th></th>\n",
       "      <th></th>\n",
       "      <th></th>\n",
       "      <th></th>\n",
       "      <th></th>\n",
       "      <th></th>\n",
       "      <th></th>\n",
       "      <th></th>\n",
       "      <th></th>\n",
       "      <th></th>\n",
       "    </tr>\n",
       "  </thead>\n",
       "  <tbody>\n",
       "    <tr>\n",
       "      <th>14 Her-b</th>\n",
       "      <td>2</td>\n",
       "      <td>1766.601670</td>\n",
       "      <td>Not-Earthlike</td>\n",
       "      <td>5296.985000</td>\n",
       "      <td>0.415000</td>\n",
       "      <td>-0.1515</td>\n",
       "      <td>3.90</td>\n",
       "      <td>0.930000</td>\n",
       "      <td>1.2739</td>\n",
       "      <td>0.976667</td>\n",
       "      <td>17.9323</td>\n",
       "      <td>0</td>\n",
       "      <td>1</td>\n",
       "      <td>0</td>\n",
       "    </tr>\n",
       "    <tr>\n",
       "      <th>51 Peg-b</th>\n",
       "      <td>1</td>\n",
       "      <td>4.230530</td>\n",
       "      <td>Not-Earthlike</td>\n",
       "      <td>5763.920000</td>\n",
       "      <td>0.195333</td>\n",
       "      <td>0.1360</td>\n",
       "      <td>10.00</td>\n",
       "      <td>1.046667</td>\n",
       "      <td>0.8937</td>\n",
       "      <td>1.220000</td>\n",
       "      <td>15.4614</td>\n",
       "      <td>0</td>\n",
       "      <td>1</td>\n",
       "      <td>0</td>\n",
       "    </tr>\n",
       "    <tr>\n",
       "      <th>55 Cnc-b</th>\n",
       "      <td>5</td>\n",
       "      <td>14.632669</td>\n",
       "      <td>Not-Earthlike</td>\n",
       "      <td>5241.412857</td>\n",
       "      <td>0.329125</td>\n",
       "      <td>-0.1970</td>\n",
       "      <td>5.25</td>\n",
       "      <td>0.918000</td>\n",
       "      <td>1.4185</td>\n",
       "      <td>0.956667</td>\n",
       "      <td>12.5855</td>\n",
       "      <td>1</td>\n",
       "      <td>1</td>\n",
       "      <td>0</td>\n",
       "    </tr>\n",
       "    <tr>\n",
       "      <th>55 Cnc-d</th>\n",
       "      <td>5</td>\n",
       "      <td>5000.560000</td>\n",
       "      <td>Not-Earthlike</td>\n",
       "      <td>5248.315000</td>\n",
       "      <td>0.343286</td>\n",
       "      <td>-0.1970</td>\n",
       "      <td>5.50</td>\n",
       "      <td>0.925556</td>\n",
       "      <td>1.4185</td>\n",
       "      <td>0.956667</td>\n",
       "      <td>12.5855</td>\n",
       "      <td>1</td>\n",
       "      <td>3</td>\n",
       "      <td>0</td>\n",
       "    </tr>\n",
       "    <tr>\n",
       "      <th>BD+20 594-b</th>\n",
       "      <td>1</td>\n",
       "      <td>41.686548</td>\n",
       "      <td>Not-Earthlike</td>\n",
       "      <td>5745.000000</td>\n",
       "      <td>-0.120000</td>\n",
       "      <td>-0.0560</td>\n",
       "      <td>3.34</td>\n",
       "      <td>1.196667</td>\n",
       "      <td>1.7950</td>\n",
       "      <td>0.990000</td>\n",
       "      <td>179.4610</td>\n",
       "      <td>0</td>\n",
       "      <td>1</td>\n",
       "      <td>0</td>\n",
       "    </tr>\n",
       "  </tbody>\n",
       "</table>\n",
       "</div>"
      ],
      "text/plain": [
       "             num_planets_in_sys  orbital_period              y    star_temp  \\\n",
       "planet                                                                        \n",
       "14 Her-b                      2     1766.601670  Not-Earthlike  5296.985000   \n",
       "51 Peg-b                      1        4.230530  Not-Earthlike  5763.920000   \n",
       "55 Cnc-b                      5       14.632669  Not-Earthlike  5241.412857   \n",
       "55 Cnc-d                      5     5000.560000  Not-Earthlike  5248.315000   \n",
       "BD+20 594-b                   1       41.686548  Not-Earthlike  5745.000000   \n",
       "\n",
       "             metallicity  luminosity  star_age  star_mass  star_density  \\\n",
       "planet                                                                    \n",
       "14 Her-b        0.415000     -0.1515      3.90   0.930000        1.2739   \n",
       "51 Peg-b        0.195333      0.1360     10.00   1.046667        0.8937   \n",
       "55 Cnc-b        0.329125     -0.1970      5.25   0.918000        1.4185   \n",
       "55 Cnc-d        0.343286     -0.1970      5.50   0.925556        1.4185   \n",
       "BD+20 594-b    -0.120000     -0.0560      3.34   1.196667        1.7950   \n",
       "\n",
       "             star_radius  star_distance_from_earth  multistar  \\\n",
       "planet                                                          \n",
       "14 Her-b        0.976667                   17.9323          0   \n",
       "51 Peg-b        1.220000                   15.4614          0   \n",
       "55 Cnc-b        0.956667                   12.5855          1   \n",
       "55 Cnc-d        0.956667                   12.5855          1   \n",
       "BD+20 594-b     0.990000                  179.4610          0   \n",
       "\n",
       "             discovery_order  y_encoded  \n",
       "planet                                   \n",
       "14 Her-b                   1          0  \n",
       "51 Peg-b                   1          0  \n",
       "55 Cnc-b                   1          0  \n",
       "55 Cnc-d                   3          0  \n",
       "BD+20 594-b                1          0  "
      ]
     },
     "execution_count": 6,
     "metadata": {},
     "output_type": "execute_result"
    }
   ],
   "source": [
    "# Cleans dataset based on initial examination\n",
    "df = wrangle.initial_clean(df)\n",
    "df.info()\n",
    "df.head()"
   ]
  },
  {
   "cell_type": "markdown",
   "id": "71cdd605",
   "metadata": {},
   "source": [
    "##### We are left with 2820 planets with a full feature set of interest.\n",
    "##### Since this is only 56% of the total planets discovered, I decided to keep all outliers in an attempt to maximize the number of observations to use.  At the same time, I can minimize the outlier effect through scaling and clustering."
   ]
  },
  {
   "cell_type": "markdown",
   "id": "7ff60965",
   "metadata": {},
   "source": [
    "# $\\bigstar$ Exploratory Data Analysis and Feature Engineering"
   ]
  },
  {
   "cell_type": "markdown",
   "id": "f763a3c6",
   "metadata": {},
   "source": [
    "## Split the Data"
   ]
  },
  {
   "cell_type": "code",
   "execution_count": 7,
   "id": "ecd8f389",
   "metadata": {},
   "outputs": [
    {
     "name": "stdout",
     "output_type": "stream",
     "text": [
      "Train = 1579 rows (56.0%) | Validate = 677 rows (24.0%) | Test = 564 rows (20.0%)\n",
      "You did not stratify.  If looking to stratify, ensure to add argument: \"target = variable to stratify on\".\n"
     ]
    }
   ],
   "source": [
    "# Split into trainm validate and test\n",
    "train, validate, test = wrangle.splitter(df)"
   ]
  },
  {
   "cell_type": "code",
   "execution_count": 8,
   "id": "1d26f735",
   "metadata": {},
   "outputs": [
    {
     "name": "stdout",
     "output_type": "stream",
     "text": [
      "<class 'pandas.core.frame.DataFrame'>\n",
      "Index: 1579 entries, Kepler-317-b to Kepler-903-b\n",
      "Data columns (total 14 columns):\n",
      " #   Column                    Non-Null Count  Dtype  \n",
      "---  ------                    --------------  -----  \n",
      " 0   num_planets_in_sys        1579 non-null   int64  \n",
      " 1   orbital_period            1579 non-null   float64\n",
      " 2   y                         1579 non-null   object \n",
      " 3   star_temp                 1579 non-null   float64\n",
      " 4   metallicity               1579 non-null   float64\n",
      " 5   luminosity                1579 non-null   float64\n",
      " 6   star_age                  1579 non-null   float64\n",
      " 7   star_mass                 1579 non-null   float64\n",
      " 8   star_density              1579 non-null   float64\n",
      " 9   star_radius               1579 non-null   float64\n",
      " 10  star_distance_from_earth  1579 non-null   float64\n",
      " 11  multistar                 1579 non-null   int64  \n",
      " 12  discovery_order           1579 non-null   int64  \n",
      " 13  y_encoded                 1579 non-null   int64  \n",
      "dtypes: float64(9), int64(4), object(1)\n",
      "memory usage: 185.0+ KB\n"
     ]
    },
    {
     "data": {
      "text/html": [
       "<div>\n",
       "<style scoped>\n",
       "    .dataframe tbody tr th:only-of-type {\n",
       "        vertical-align: middle;\n",
       "    }\n",
       "\n",
       "    .dataframe tbody tr th {\n",
       "        vertical-align: top;\n",
       "    }\n",
       "\n",
       "    .dataframe thead th {\n",
       "        text-align: right;\n",
       "    }\n",
       "</style>\n",
       "<table border=\"1\" class=\"dataframe\">\n",
       "  <thead>\n",
       "    <tr style=\"text-align: right;\">\n",
       "      <th></th>\n",
       "      <th>num_planets_in_sys</th>\n",
       "      <th>orbital_period</th>\n",
       "      <th>y</th>\n",
       "      <th>star_temp</th>\n",
       "      <th>metallicity</th>\n",
       "      <th>luminosity</th>\n",
       "      <th>star_age</th>\n",
       "      <th>star_mass</th>\n",
       "      <th>star_density</th>\n",
       "      <th>star_radius</th>\n",
       "      <th>star_distance_from_earth</th>\n",
       "      <th>multistar</th>\n",
       "      <th>discovery_order</th>\n",
       "      <th>y_encoded</th>\n",
       "    </tr>\n",
       "    <tr>\n",
       "      <th>planet</th>\n",
       "      <th></th>\n",
       "      <th></th>\n",
       "      <th></th>\n",
       "      <th></th>\n",
       "      <th></th>\n",
       "      <th></th>\n",
       "      <th></th>\n",
       "      <th></th>\n",
       "      <th></th>\n",
       "      <th></th>\n",
       "      <th></th>\n",
       "      <th></th>\n",
       "      <th></th>\n",
       "      <th></th>\n",
       "    </tr>\n",
       "  </thead>\n",
       "  <tbody>\n",
       "    <tr>\n",
       "      <th>Kepler-317-b</th>\n",
       "      <td>2</td>\n",
       "      <td>5.524177</td>\n",
       "      <td>Not-Earthlike</td>\n",
       "      <td>5445.60</td>\n",
       "      <td>0.2140</td>\n",
       "      <td>-0.20800</td>\n",
       "      <td>7.66</td>\n",
       "      <td>0.942222</td>\n",
       "      <td>1.868017</td>\n",
       "      <td>0.938182</td>\n",
       "      <td>940.584</td>\n",
       "      <td>0</td>\n",
       "      <td>1</td>\n",
       "      <td>0</td>\n",
       "    </tr>\n",
       "    <tr>\n",
       "      <th>Kepler-220-c</th>\n",
       "      <td>4</td>\n",
       "      <td>9.034198</td>\n",
       "      <td>Not-Earthlike</td>\n",
       "      <td>4589.74</td>\n",
       "      <td>-0.1665</td>\n",
       "      <td>-0.68725</td>\n",
       "      <td>7.16</td>\n",
       "      <td>0.702000</td>\n",
       "      <td>10.347129</td>\n",
       "      <td>0.699167</td>\n",
       "      <td>171.109</td>\n",
       "      <td>0</td>\n",
       "      <td>2</td>\n",
       "      <td>0</td>\n",
       "    </tr>\n",
       "  </tbody>\n",
       "</table>\n",
       "</div>"
      ],
      "text/plain": [
       "              num_planets_in_sys  orbital_period              y  star_temp  \\\n",
       "planet                                                                       \n",
       "Kepler-317-b                   2        5.524177  Not-Earthlike    5445.60   \n",
       "Kepler-220-c                   4        9.034198  Not-Earthlike    4589.74   \n",
       "\n",
       "              metallicity  luminosity  star_age  star_mass  star_density  \\\n",
       "planet                                                                     \n",
       "Kepler-317-b       0.2140    -0.20800      7.66   0.942222      1.868017   \n",
       "Kepler-220-c      -0.1665    -0.68725      7.16   0.702000     10.347129   \n",
       "\n",
       "              star_radius  star_distance_from_earth  multistar  \\\n",
       "planet                                                           \n",
       "Kepler-317-b     0.938182                   940.584          0   \n",
       "Kepler-220-c     0.699167                   171.109          0   \n",
       "\n",
       "              discovery_order  y_encoded  \n",
       "planet                                    \n",
       "Kepler-317-b                1          0  \n",
       "Kepler-220-c                2          0  "
      ]
     },
     "execution_count": 8,
     "metadata": {},
     "output_type": "execute_result"
    }
   ],
   "source": [
    "# Quick look at train\n",
    "train.info()\n",
    "train.head(2)"
   ]
  },
  {
   "cell_type": "markdown",
   "id": "ca13d195",
   "metadata": {},
   "source": [
    "##### I worked on train only from here forward to not corrupt the validate and test data."
   ]
  },
  {
   "cell_type": "markdown",
   "id": "eb5a40c3",
   "metadata": {},
   "source": [
    "### I proceeded to optimize the feature set for analysis using bivariate and mutlivariate analysis, as well as a cluster-based star feature elaborated on below.  I had a very general question to answer: which characteristics - numeric and categorical - are statistically signifigant when comparing the differences between stars with Earthlike planets with those without?"
   ]
  },
  {
   "cell_type": "markdown",
   "id": "977a43ed",
   "metadata": {},
   "source": [
    "## Examining categoricals:"
   ]
  },
  {
   "cell_type": "code",
   "execution_count": 9,
   "id": "fd2891ff",
   "metadata": {},
   "outputs": [],
   "source": [
    "# ID categorical features\n",
    "features_to_chi_square_test = ['num_planets_in_sys','discovery_order','multistar']"
   ]
  },
  {
   "cell_type": "code",
   "execution_count": 10,
   "id": "ac55157f",
   "metadata": {},
   "outputs": [
    {
     "name": "stdout",
     "output_type": "stream",
     "text": [
      "num_planets_in_sys\n"
     ]
    },
    {
     "data": {
      "image/png": "[encoded data removed]",
      "text/plain": [
       "<Figure size 432x432 with 1 Axes>"
      ]
     },
     "metadata": {
      "needs_background": "light"
     },
     "output_type": "display_data"
    },
    {
     "name": "stdout",
     "output_type": "stream",
     "text": [
      "chi2 = 7.191529879286361, p = 0.30349740065174396\n",
      "We fail to reject the null hypothesis.\n",
      "\n",
      "-----\n",
      "\n",
      "discovery_order\n"
     ]
    },
    {
     "data": {
      "image/png": "[encoded data removed]",
      "text/plain": [
       "<Figure size 432x432 with 1 Axes>"
      ]
     },
     "metadata": {
      "needs_background": "light"
     },
     "output_type": "display_data"
    },
    {
     "name": "stdout",
     "output_type": "stream",
     "text": [
      "chi2 = 7.395523006493354, p = 0.19284693143357282\n",
      "We fail to reject the null hypothesis.\n",
      "\n",
      "-----\n",
      "\n",
      "multistar\n"
     ]
    },
    {
     "data": {
      "image/png": "[encoded data removed]",
      "text/plain": [
       "<Figure size 432x432 with 1 Axes>"
      ]
     },
     "metadata": {
      "needs_background": "light"
     },
     "output_type": "display_data"
    },
    {
     "name": "stdout",
     "output_type": "stream",
     "text": [
      "chi2 = 0.1900250016722465, p = 0.6628958096594963\n",
      "We fail to reject the null hypothesis.\n",
      "\n",
      "-----\n",
      "\n"
     ]
    }
   ],
   "source": [
    "# Run a loop to print barplots and hypothesis tests for each categorical\n",
    "for col in features_to_chi_square_test:\n",
    "    print(col)\n",
    "    plt.figure(figsize=(6,6))\n",
    "    sns.barplot(x = col, y = 'y_encoded', data=train, alpha=.8, color='lightseagreen')\n",
    "    plt.axhline(train['y_encoded'].mean(), ls='--', color='gray')\n",
    "    plt.show()\n",
    "    observation = pd.crosstab(train['y_encoded'], train[col])\n",
    "    chi2, p, degf, expected = stats.chi2_contingency(observation)\n",
    "    print(f'chi2 = {chi2}, p = {p}')\n",
    "    if p < .05:\n",
    "        print('We reject the null hypothesis.')\n",
    "    else: \n",
    "        print('We fail to reject the null hypothesis.')\n",
    "    print('\\n-----\\n')"
   ]
  },
  {
   "cell_type": "markdown",
   "id": "e98c67f7",
   "metadata": {},
   "source": [
    "##### We fail to reject the null hypothesis that there is any difference between these groups when it comes to having an Earthlike planet."
   ]
  },
  {
   "cell_type": "markdown",
   "id": "097a16af",
   "metadata": {},
   "source": [
    "## Examining Numericals:"
   ]
  },
  {
   "cell_type": "markdown",
   "id": "37419900",
   "metadata": {},
   "source": [
    "##### All numericals were examed in 'exoplanet_clustering_and_EDA_scrapbook.ipynb'.  In summary:\n",
    "- The only features where the means are different are:\n",
    "    - Metallicity\n",
    "    - Orbital Period\n",
    "    - Distance from Earth\n",
    "    \n",
    "##### Here is Metallicity as an example:"
   ]
  },
  {
   "cell_type": "code",
   "execution_count": 11,
   "id": "c094ba7d",
   "metadata": {},
   "outputs": [
    {
     "data": {
      "image/png": "[encoded data removed]",
      "text/plain": [
       "<Figure size 360x360 with 1 Axes>"
      ]
     },
     "metadata": {
      "needs_background": "light"
     },
     "output_type": "display_data"
    },
    {
     "name": "stdout",
     "output_type": "stream",
     "text": [
      "t = -4.172131292981905, p = 3.1820878661487445e-05\n",
      "We reject the null hypothesis that Earthlike planets differ in metallicity than non-earthlike planets.\n"
     ]
    }
   ],
   "source": [
    "# Set confidence level\n",
    "alpha = .05\n",
    "\n",
    "# Plot Metallicity for Earthlike and Not-Earthlike\n",
    "sns.relplot(data = train, x='y', y='metallicity')\n",
    "plt.show()\n",
    "\n",
    "# Hypothesis Test\n",
    "a = train[train.y == 'Earthlike']\n",
    "b = train[train.y == 'Not-Earthlike']\n",
    "t, p = stats.ttest_ind(a['metallicity'], b['metallicity'], equal_var=True)\n",
    "print(f't = {t}, p = {p}')\n",
    "if p < alpha:\n",
    "    print('We reject the null hypothesis that Earthlike planets differ in metallicity than non-earthlike planets.')\n",
    "else: print('We fail to reject the null hypothesis that Earthlike planets differ in metallicity than non-earthlike planets.')"
   ]
  },
  {
   "cell_type": "markdown",
   "id": "3ef5e636",
   "metadata": {},
   "source": [
    "### *Of special note, one of the numericals, star_distance_from_earth, did fail to reject the null, meaning the distance from earth does impact whether or not a star has an Earthlike planet.  However, this is unrelated to the star or planet itself, and is likely due to measurements being better at closer range.*\n",
    "#### In the future, this distance could be taken into account when weighing the strength of the planet and star characteristics to improve classification."
   ]
  },
  {
   "cell_type": "markdown",
   "id": "6f586fa0",
   "metadata": {},
   "source": [
    "## Building a Stellar Cluster Feature:"
   ]
  },
  {
   "cell_type": "markdown",
   "id": "159eb07e",
   "metadata": {},
   "source": [
    "#### In an initial correlation heatmap, I saw a number of star characteristics were correlated.  Through research, I discovered that the mass, radius, temperature, density and luminosity are all related.  Specifically Luminosity is proportional to the square of the radius and fourth power of the Temperature.\n",
    "#### After examining numerous clusterings of these characteristics, I discovered nice clusters around Luminosity and Temperature.  This aligns with the 'Main Sequence' model of stellar bodies.  Because of the physics of very large bodies begins to simplify statistically, almost all stars spend their productive years in a well-defined zone.  Using a k-elbow it was determined 4-clusters were optimal."
   ]
  },
  {
   "cell_type": "code",
   "execution_count": 12,
   "id": "2c849424",
   "metadata": {},
   "outputs": [],
   "source": [
    "# UPLOAD GRAPHIC OF MAIN SEQUENCE"
   ]
  },
  {
   "cell_type": "code",
   "execution_count": 13,
   "id": "cbef59c7",
   "metadata": {},
   "outputs": [
    {
     "data": {
      "text/plain": [
       "<AxesSubplot:xlabel='star_temp', ylabel='luminosity'>"
      ]
     },
     "execution_count": 13,
     "metadata": {},
     "output_type": "execute_result"
    },
    {
     "data": {
      "image/png": "[encoded data removed]",
      "text/plain": [
       "<Figure size 432x288 with 1 Axes>"
      ]
     },
     "metadata": {
      "needs_background": "light"
     },
     "output_type": "display_data"
    }
   ],
   "source": [
    "# Isolate Features of interest\n",
    "X = train[['luminosity','star_temp']]\n",
    "\n",
    "# Create and fit the model\n",
    "kmeans = KMeans(n_clusters=4)\n",
    "kmeans.fit(X)\n",
    "\n",
    "# Create clusters based off the model\n",
    "train['lt_cluster'] = kmeans.predict(X)\n",
    "\n",
    "# Plot the clusters\n",
    "sns.scatterplot(data=train, x=(train.star_temp),y=(train.luminosity),hue='lt_cluster')"
   ]
  },
  {
   "cell_type": "markdown",
   "id": "47bbae11",
   "metadata": {},
   "source": [
    "##### Note: The cluster map is a tranlated version of the main sequence diagram above, but aligns very closely with it."
   ]
  },
  {
   "cell_type": "markdown",
   "id": "822df2a4",
   "metadata": {},
   "source": [
    "### Cluster Impact"
   ]
  },
  {
   "cell_type": "code",
   "execution_count": 14,
   "id": "b77a6479",
   "metadata": {},
   "outputs": [
    {
     "data": {
      "image/png": "[encoded data removed]",
      "text/plain": [
       "<Figure size 432x432 with 1 Axes>"
      ]
     },
     "metadata": {
      "needs_background": "light"
     },
     "output_type": "display_data"
    },
    {
     "name": "stdout",
     "output_type": "stream",
     "text": [
      "t = 1.044054992875971, p = 0.29661996066216295\n",
      "We fail to reject the null hypothesis that Earthlike planets differ in metallicity than non-earthlike planets.\n"
     ]
    }
   ],
   "source": [
    "# Plot Metallicity for Earthlike and Not-Earthlike\n",
    "plt.figure(figsize=(6,6))\n",
    "sns.barplot(x = 'lt_cluster', y = 'y_encoded', data=train, alpha=.8, color='lightseagreen')\n",
    "plt.axhline(train['y_encoded'].mean(), ls='--', color='gray')\n",
    "plt.show()\n",
    "\n",
    "# Hypothesis Test\n",
    "a = train[train.y == 'Earthlike']\n",
    "b = train[train.y == 'Not-Earthlike']\n",
    "t, p = stats.ttest_ind(a['lt_cluster'], b['lt_cluster'], equal_var=True)\n",
    "print(f't = {t}, p = {p}')\n",
    "if p < alpha:\n",
    "    print('We reject the null hypothesis that Earthlike planets differ in metallicity than non-earthlike planets.')\n",
    "else: print('We fail to reject the null hypothesis that Earthlike planets differ in metallicity than non-earthlike planets.')"
   ]
  },
  {
   "cell_type": "markdown",
   "id": "35d6036a",
   "metadata": {},
   "source": [
    "### Unfortunately, looks like after all that, the clusters don't seem to differ in predicting Earthlike or not."
   ]
  },
  {
   "cell_type": "markdown",
   "id": "c3fbcbb8",
   "metadata": {},
   "source": [
    "## Summary of Exploration:\n",
    "1. There is no difference in stars with Earthlike planets when comparing across categorical features.\n",
    "2. Metallicity is the only stellar feature that showed a difference between earthlike and non-earthlike (Earthlike planets more likely found with stars of a higher metallicity, which makes sense since rocky planets are more likely to form from a proto-system higher in metals to begin with.\n",
    "3. Orbital period is also different between Earthlike and Not-Earthlike.  While seemingly planetary, I left it in the analysis because it is technically a combination of star and planet characteristics.  Earthlike planets have much lower mean periods than not-earthlike planets, which also tracks with obervation as rocky planets tend to orbit closer to their stars.  \n",
    "4. There are more Earthlike planets found closer to earth, but this is likely because our instruments are more sensitive at these distances.\n",
    "5. In order to consolidate characteristics into best features, the best clustering follows the established science of grouping stars along the \"Main Sequence\" line.  Unfortunately, that did not show impact, but hopefully can contribute to the modeling."
   ]
  },
  {
   "cell_type": "markdown",
   "id": "a0afeab2",
   "metadata": {},
   "source": [
    "# $\\bigstar$ Modeling"
   ]
  },
  {
   "cell_type": "markdown",
   "id": "0e47a3e2",
   "metadata": {},
   "source": [
    "##### Following this exploration, the data was cleaned once more by dropping features captured by others, and then scaled and split into modeling sets."
   ]
  },
  {
   "cell_type": "code",
   "execution_count": 15,
   "id": "3bcad103",
   "metadata": {},
   "outputs": [],
   "source": [
    "# Create cleaned, split, scaled, and seperated modeling datasets\n",
    "train, X_train, y_train, X_validate, y_validate, X_test, y_test = wrangle.final_clean(train, validate, test)"
   ]
  },
  {
   "cell_type": "code",
   "execution_count": 16,
   "id": "79c8f08f",
   "metadata": {},
   "outputs": [
    {
     "data": {
      "text/plain": [
       "Kepler-1779-b    Not-Earthlike\n",
       "K2-291-b         Not-Earthlike\n",
       "HATS-42-b        Not-Earthlike\n",
       "Kepler-990-b     Not-Earthlike\n",
       "HATS-72-b        Not-Earthlike\n",
       "Name: y, dtype: object"
      ]
     },
     "execution_count": 16,
     "metadata": {},
     "output_type": "execute_result"
    }
   ],
   "source": [
    "# Quick check one set, the validate target\n",
    "y_validate.sample(5)"
   ]
  },
  {
   "cell_type": "markdown",
   "id": "a87ebbb6",
   "metadata": {},
   "source": [
    "## Baseline Model"
   ]
  },
  {
   "cell_type": "code",
   "execution_count": 17,
   "id": "b579cbd3",
   "metadata": {},
   "outputs": [
    {
     "name": "stdout",
     "output_type": "stream",
     "text": [
      "Baseline accuracy: 0.94\n"
     ]
    }
   ],
   "source": [
    "# Calculate baseline accuracy pecentage\n",
    "baseline = y_train.mode()\n",
    "matches_baseline_prediction = (y_train == baseline.values[0])\n",
    "baseline_accuracy = matches_baseline_prediction.mean()\n",
    "print(f\"Baseline accuracy: {round(baseline_accuracy, 2)}\")"
   ]
  },
  {
   "cell_type": "markdown",
   "id": "04ff06be",
   "metadata": {},
   "source": [
    "### *This is pretty high, and its because by far most planets are NOT earthlike!  Because of this, accuracy is probably not as important as Sensitivity (Recall) as False Negatives are better than False Positives, because we don't want to waste resources going after true negatives.*"
   ]
  },
  {
   "cell_type": "markdown",
   "id": "021b7b05",
   "metadata": {},
   "source": [
    "## Modeling"
   ]
  },
  {
   "cell_type": "markdown",
   "id": "c3f30c1d",
   "metadata": {},
   "source": [
    "### I tried four different classification models (Decision Tree, Random Forest, KNN, Logistical Regression) with a number of hyperparameters.\n",
    "- *Modeling can be found in 'exoplanet_modeling_scrapbook.ipynb'*\n",
    "\n",
    "### Unfortunately, none provide any impovement over Baseline Accuracy, and only a few of the Decision Trees provided a superior Recall (5% vs 0%) on in-sample data."
   ]
  },
  {
   "cell_type": "code",
   "execution_count": 18,
   "id": "78ce359b",
   "metadata": {},
   "outputs": [
    {
     "name": "stdout",
     "output_type": "stream",
     "text": [
      "True Positive = 2\n",
      "False Positive = 13\n",
      "True Negative = 623\n",
      "False Negative = 39\n",
      "Precision = 0.13\n",
      "Recall = 0.05\n",
      "Accuracy = 0.92\n",
      "F1 Score = 0.07\n",
      "Support, Positive = 41\n",
      "Support, Negative = 636\n"
     ]
    },
    {
     "data": {
      "image/png": "[encoded data removed]",
      "text/plain": [
       "<Figure size 936x504 with 1 Axes>"
      ]
     },
     "metadata": {
      "needs_background": "light"
     },
     "output_type": "display_data"
    }
   ],
   "source": [
    "# Decision Tree with k=8 leaves\n",
    "tree = DecisionTreeClassifier(max_depth=8, random_state=123)\n",
    "tree = tree.fit(X_train, y_train)\n",
    "y_tree_pred = tree.predict(X_validate)\n",
    "result = pd.DataFrame(confusion_matrix(y_validate, y_tree_pred))\n",
    "results = matrix_result_2d(result)\n",
    "results['model'] = 'Decision Tree, Depth = 8'\n",
    "\n",
    "# Print Summary \n",
    "matrix_result_2d(result, output='print')\n",
    "\n",
    "# Plot Tree\n",
    "plt.figure(figsize=(13, 7))\n",
    "plot_tree(tree, feature_names=X_train.columns, class_names=tree.classes_, rounded=True)\n",
    "plt.show()"
   ]
  },
  {
   "cell_type": "markdown",
   "id": "f2c5bffe",
   "metadata": {},
   "source": [
    "### Testing on Out-of-Sample Data"
   ]
  },
  {
   "cell_type": "code",
   "execution_count": 19,
   "id": "1657f4f1",
   "metadata": {},
   "outputs": [
    {
     "name": "stdout",
     "output_type": "stream",
     "text": [
      "True Positive = 1\n",
      "False Positive = 22\n",
      "True Negative = 505\n",
      "False Negative = 36\n",
      "Precision = 0.04\n",
      "Recall = 0.03\n",
      "Accuracy = 0.90\n",
      "F1 Score = 0.03\n",
      "Support, Positive = 37\n",
      "Support, Negative = 527\n"
     ]
    }
   ],
   "source": [
    "# Decision Tree with k=8 leaves on out-of-sample data\n",
    "tree = DecisionTreeClassifier(max_depth=8, random_state=123)\n",
    "tree = tree.fit(X_train, y_train)\n",
    "y_tree_pred = tree.predict(X_test)\n",
    "result = pd.DataFrame(confusion_matrix(y_test, y_tree_pred))\n",
    "results = matrix_result_2d(result)\n",
    "results['model'] = 'Decision Tree, Depth = 8'\n",
    "matrix_result_2d(result, output='print')"
   ]
  },
  {
   "cell_type": "markdown",
   "id": "281b3e04",
   "metadata": {},
   "source": [
    "# $\\bigstar$ Conclusions"
   ]
  },
  {
   "cell_type": "markdown",
   "id": "2471a111",
   "metadata": {},
   "source": [
    "## Key Findings\n",
    "- The only appreciable stellar feature found was Metallicity.\n",
    "- Earthlike planets are typically found closer to their star than non-earthlike planets.\n",
    "- Unsurprisingly, we are better at identifying planets when they are closer to earth.\n",
    "- In general, this is cutting edge data capture and exoplanet analysis is still in its infancy in many ways.  More stars will be discovered soon, with better data, so this area is study is ripe for continuation and improvement."
   ]
  },
  {
   "cell_type": "markdown",
   "id": "58480ff7",
   "metadata": {},
   "source": [
    "## Model Effectiveness\n",
    "- An effective model was not found during this project."
   ]
  },
  {
   "cell_type": "markdown",
   "id": "88533175",
   "metadata": {},
   "source": [
    "## Recommendations and Next Steps\n",
    "- Continue to cluster stellar characteristics in an attempt to find one statistically signifigant as a indicator of the lieklihood of Earthlike planets.\n",
    "- Build an imputing algorithm to capture a number of planets that had nulls that could not be filled simply by combing and findind the mean of all avaialbe data for that planet.\n",
    "- Focus early JWST studies on building a dataset which allows for modeling the liklihood of a star having an earthlike planet, as this will make it a better tool in the long run by continually improving its targeting."
   ]
  }
 ],
 "metadata": {
  "kernelspec": {
   "display_name": "Python 3 (ipykernel)",
   "language": "python",
   "name": "python3"
  },
  "language_info": {
   "codemirror_mode": {
    "name": "ipython",
    "version": 3
   },
   "file_extension": ".py",
   "mimetype": "text/x-python",
   "name": "python",
   "nbconvert_exporter": "python",
   "pygments_lexer": "ipython3",
   "version": "3.9.7"
  }
 },
 "nbformat": 4,
 "nbformat_minor": 5
}
